{
 "cells": [
  {
   "cell_type": "code",
   "execution_count": 1,
   "id": "eb0f79f0",
   "metadata": {},
   "outputs": [],
   "source": [
    "import os\n",
    "import sys\n",
    "sys.path.append('..')\n",
    "import torch\n",
    "from tqdm import tqdm"
   ]
  },
  {
   "cell_type": "code",
   "execution_count": 6,
   "id": "7049b08f",
   "metadata": {},
   "outputs": [],
   "source": [
    "'''\n",
    "def img2video(dst_path, prefix, video_path):\n",
    "    cmd = ['ffmpeg', '-i', '\\'' + video_path + '/' + prefix + '%d.jpg'\n",
    "           + '\\'', '-q:v 0', '\\'' + dst_path + '/' + prefix + '.mp4' + '\\'', '-loglevel error -y']\n",
    "    cmd = ' '.join(cmd)\n",
    "    os.system(cmd)"
   ]
  },
  {
   "cell_type": "code",
   "execution_count": 9,
   "id": "eb5d422e",
   "metadata": {},
   "outputs": [
    {
     "data": {
      "text/plain": [
       "0"
      ]
     },
     "execution_count": 9,
     "metadata": {},
     "output_type": "execute_result"
    }
   ],
   "source": [
    "os.system('cd ./results//id_terry1//input_cropped_pose_pose1_cropped_audio_mouth & ffmpeg -i ./G_Pose_Driven_/G_Pose_Driven_%d.jpg -q:v 0 G_Pose_Driven_.mp4 -loglevel error -y')"
   ]
  },
  {
   "cell_type": "code",
   "execution_count": 10,
   "id": "7a89bfdb",
   "metadata": {},
   "outputs": [
    {
     "data": {
      "text/plain": [
       "0"
      ]
     },
     "execution_count": 10,
     "metadata": {},
     "output_type": "execute_result"
    }
   ],
   "source": [
    "os.system('cd ./results//id_terry1//input_cropped_pose_pose1_cropped_audio_mouth & ffmpeg -i ./Pose_Source_/Pose_Source_%d.jpg -q:v 0 Pose_Source_.mp4 -loglevel error -y')"
   ]
  },
  {
   "cell_type": "code",
   "execution_count": 11,
   "id": "60c07cbd",
   "metadata": {},
   "outputs": [
    {
     "data": {
      "text/plain": [
       "0"
      ]
     },
     "execution_count": 11,
     "metadata": {},
     "output_type": "execute_result"
    }
   ],
   "source": [
    "os.system('cd ./results//id_terry1//input_cropped_pose_pose1_cropped_audio_mouth & ffmpeg -i ./Mouth_Source_/Mouth_Source_%d.jpg -q:v 0 Mouth_Source_.mp4 -loglevel error -y')"
   ]
  },
  {
   "cell_type": "code",
   "execution_count": 16,
   "id": "68b58638",
   "metadata": {},
   "outputs": [],
   "source": [
    "'''\n",
    "video_names = ['Input_', 'G_Fix_Pose_', 'Mouth_Source_']"
   ]
  },
  {
   "cell_type": "code",
   "execution_count": 18,
   "id": "3654665f",
   "metadata": {},
   "outputs": [
    {
     "ename": "SyntaxError",
     "evalue": "non-default argument follows default argument (Temp/ipykernel_25344/3005275160.py, line 1)",
     "output_type": "error",
     "traceback": [
      "\u001b[1;36m  File \u001b[1;32m\"C:\\Users\\Lenovo\\AppData\\Local\\Temp/ipykernel_25344/3005275160.py\"\u001b[1;36m, line \u001b[1;32m1\u001b[0m\n\u001b[1;33m    def video_concat(processed_file_savepath='./results/id_517600055_pose_517600078_audio_681600002', name='concat', video_names, audio_path='681600002'):\u001b[0m\n\u001b[1;37m                    ^\u001b[0m\n\u001b[1;31mSyntaxError\u001b[0m\u001b[1;31m:\u001b[0m non-default argument follows default argument\n"
     ]
    }
   ],
   "source": [
    "'''\n",
    "def video_concat(processed_file_savepath='./results/id_517600055_pose_517600078_audio_681600002', name='concat', video_names, audio_path='681600002'):\n",
    "    cmd = ['ffmpeg']\n",
    "    num_inputs = len(video_names)#3\n",
    "    for video_name in video_names:\n",
    "        cmd += ['-i', '\\'' + str(os.path.join(processed_file_savepath, video_name + '.mp4'))+'\\'',]\n",
    "\n",
    "    cmd += ['-filter_complex hstack=inputs=' + str(num_inputs),\n",
    "            '\\'' + str(os.path.join(processed_file_savepath, name+'.mp4')) + '\\'', '-loglevel error -y']\n",
    "    cmd = ' '.join(cmd)\n",
    "    os.system(cmd)\n",
    "    video_add_audio(name, audio_path, processed_file_savepath)\n",
    "\n",
    "\n",
    "def video_add_audio(name, audio_path, processed_file_savepath):\n",
    "    os.system('cp {} {}'.format(audio_path, processed_file_savepath))\n",
    "    cmd = ['ffmpeg', '-i', '\\'' + os.path.join(processed_file_savepath, name + '.mp4') + '\\'',\n",
    "                     '-i', audio_path,\n",
    "                     '-q:v 0',\n",
    "                     '-strict -2',\n",
    "                     '\\'' + os.path.join(processed_file_savepath, 'av' + name + '.mp4') + '\\'',\n",
    "                     '-loglevel error -y']\n",
    "    cmd = ' '.join(cmd)\n",
    "    os.system(cmd)"
   ]
  },
  {
   "cell_type": "code",
   "execution_count": 12,
   "id": "55c34acb",
   "metadata": {},
   "outputs": [
    {
     "data": {
      "text/plain": [
       "0"
      ]
     },
     "execution_count": 12,
     "metadata": {},
     "output_type": "execute_result"
    }
   ],
   "source": [
    "os.system('cd ./results//id_terry1//input_cropped_pose_pose1_cropped_audio_mouth & ffmpeg -i G_Pose_Driven_.mp4 -i Pose_Source_.mp4 -i Mouth_Source_.mp4 -filter_complex hstack=inputs=3 concat.mp4 -loglevel error -y')"
   ]
  },
  {
   "cell_type": "code",
   "execution_count": 14,
   "id": "8493fa4e",
   "metadata": {},
   "outputs": [
    {
     "data": {
      "text/plain": [
       "0"
      ]
     },
     "execution_count": 14,
     "metadata": {},
     "output_type": "execute_result"
    }
   ],
   "source": [
    "os.system('cd ./results//id_terry1//input_cropped_pose_pose1_cropped_audio_mouth & ffmpeg -i concat.mp4 -i mouth.mp3 -q:v 0 -strict -2 avconcat.mp4 -loglevel error -y')"
   ]
  },
  {
   "cell_type": "markdown",
   "id": "a65913e4",
   "metadata": {},
   "source": [
    "分割视频"
   ]
  },
  {
   "cell_type": "code",
   "execution_count": 35,
   "id": "772548cf",
   "metadata": {},
   "outputs": [
    {
     "data": {
      "text/plain": [
       "0"
      ]
     },
     "execution_count": 35,
     "metadata": {},
     "output_type": "execute_result"
    }
   ],
   "source": [
    "os.system('cd ./代码 & ffmpeg -i ./misc/Input/00098.mp4 -start_number 0 -qscale:v 2 ./misc/Input/00098/%06d.jpg -loglevel error -y')"
   ]
  },
  {
   "cell_type": "code",
   "execution_count": 36,
   "id": "393d4799",
   "metadata": {},
   "outputs": [
    {
     "data": {
      "text/plain": [
       "0"
      ]
     },
     "execution_count": 36,
     "metadata": {},
     "output_type": "execute_result"
    }
   ],
   "source": [
    "os.system('cd ./代码 & ffmpeg -i ./misc/Audio_Source/00015.mp4 -loglevel error -y -f wav -acodec pcm_s16le -ar 16000 ./misc/Audio_Source/00015.mp3')"
   ]
  },
  {
   "cell_type": "code",
   "execution_count": 37,
   "id": "19f1b7c5",
   "metadata": {},
   "outputs": [
    {
     "data": {
      "text/plain": [
       "0"
      ]
     },
     "execution_count": 37,
     "metadata": {},
     "output_type": "execute_result"
    }
   ],
   "source": [
    "os.system('cd ./代码 & ffmpeg -i ./misc/Audio_Source/00015.mp4 -start_number 0 -qscale:v 2 ./misc/Mouth_Source/00015/%06d.jpg -loglevel error -y')"
   ]
  },
  {
   "cell_type": "code",
   "execution_count": 40,
   "id": "9202187f",
   "metadata": {},
   "outputs": [
    {
     "data": {
      "text/plain": [
       "0"
      ]
     },
     "execution_count": 40,
     "metadata": {},
     "output_type": "execute_result"
    }
   ],
   "source": [
    "os.system('cd ./代码 & ffmpeg -i ./misc/Pose_Source/00473.mp4 -start_number 0 -qscale:v 2 ./misc/Pose_Source/00473/%06d.jpg -loglevel error -y')"
   ]
  }
 ],
 "metadata": {
  "kernelspec": {
   "display_name": "Python 3 (ipykernel)",
   "language": "python",
   "name": "python3"
  },
  "language_info": {
   "codemirror_mode": {
    "name": "ipython",
    "version": 3
   },
   "file_extension": ".py",
   "mimetype": "text/x-python",
   "name": "python",
   "nbconvert_exporter": "python",
   "pygments_lexer": "ipython3",
   "version": "3.7.0"
  }
 },
 "nbformat": 4,
 "nbformat_minor": 5
}
